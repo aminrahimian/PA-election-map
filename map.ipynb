{
 "cells": [
  {
   "cell_type": "code",
   "execution_count": null,
   "id": "b5e425fc",
   "metadata": {},
   "outputs": [],
   "source": [
    "#change address to latitude and longtitude\n",
    "import requests\n",
    "import json\n",
    "import csv\n",
    "import pandas as pd\n",
    "from tqdm import tqdm\n",
    "\n",
    "data = pd.read_csv('input.csv')\n",
    "\n",
    "data['Latitude'] = ''\n",
    "data['Longitude'] = ''\n",
    "\n",
    "for index, row in tqdm(data.iterrows(), total=len(data)):\n",
    "    address = row['Address']\n",
    "    url = f\"https://nominatim.openstreetmap.org/search?q={address}&format=json&limit=1\"\n",
    "    response = requests.get(url)\n",
    "    \n",
    "    # Check if response is successful\n",
    "    if response.status_code == 200:\n",
    "        result = json.loads(response.text)\n",
    "        \n",
    "        try:\n",
    "            lat = result[0][\"lat\"]\n",
    "            lng = result[0][\"lon\"]\n",
    "        except (IndexError, KeyError):\n",
    "            lat = ''\n",
    "            lng = ''\n",
    "            print(f\"Error: {address}\")\n",
    "    else:\n",
    "        print(f\"Error: Request for {address} failed with status code {response.status_code}\")\n",
    "        # you may want to add additional handling for failed requests here\n",
    "\n",
    "    data.at[index, 'Latitude'] = lat\n",
    "    data.at[index, 'Longitude'] = lng\n",
    "\n",
    "data.to_csv('output.csv', index=False)\n"
   ]
  },
  {
   "cell_type": "code",
   "execution_count": null,
   "id": "0f649458",
   "metadata": {},
   "outputs": [],
   "source": [
    "#Replace any party code other than 'R' and 'D' with 'Other'\n",
    "import pandas as pd\n",
    "voter_data = pd.read_csv('input1.csv')\n",
    "voter_data['Party Code'] = voter_data['Party Code'].apply(lambda x: 'Other' if x not in ['R', 'D'] else x)\n",
    "voter_data.to_csv('output1.csv', index=False)\n"
   ]
  },
  {
   "cell_type": "code",
   "execution_count": null,
   "id": "ba04709d",
   "metadata": {},
   "outputs": [],
   "source": [
    "#draw the map\n",
    "import pandas as pd\n",
    "import seaborn as sns\n",
    "import matplotlib.pyplot as plt\n",
    "import contextily\n",
    "# Load the voter data\n",
    "voter_data = pd.read_csv(\"input3.csv\")\n",
    "#set seaborn style and figure\n",
    "sns.set(style=\"ticks\", color_codes=True)\n",
    "plt.figure(figsize=(100,80))\n",
    "#create a jointplot using latitude and longtitude as axes and Party Code as hue\n",
    "ax = sns.jointplot(x=\"Longitude\", y=\"Latitude\", data=voter_data, hue=\"Party Code\", palette={\"D\": \"blue\", \"R\": \"red\", \"Other\": \"black\"}, kind=\"scatter\", s=0.05)\n",
    "#set the limits of the axes\n",
    "plt.xlim([-77.6, -76.95])\n",
    "plt.ylim([39.7, 40.1])\n",
    "#add a basemap to the plot using contextily\n",
    "contextily.add_basemap(ax.ax_joint, crs=\"EPSG:4326\", source=contextily.providers.CartoDB.PositronNoLabels)\n",
    "#save the plot as a PNG image\n",
    "plt.savefig(\"output.png\", dpi=1600)\n"
   ]
  }
 ],
 "metadata": {
  "kernelspec": {
   "display_name": "Python 3 (ipykernel)",
   "language": "python",
   "name": "python3"
  },
  "language_info": {
   "codemirror_mode": {
    "name": "ipython",
    "version": 3
   },
   "file_extension": ".py",
   "mimetype": "text/x-python",
   "name": "python",
   "nbconvert_exporter": "python",
   "pygments_lexer": "ipython3",
   "version": "3.10.9"
  }
 },
 "nbformat": 4,
 "nbformat_minor": 5
}
