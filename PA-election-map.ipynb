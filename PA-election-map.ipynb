{
 "cells": [
  {
   "cell_type": "markdown",
   "id": "14f88590",
   "metadata": {},
   "source": [
    "<span style=\"font-family: 'Times New Roman'\">\n",
    "    \n",
    "<font size=\"6\">PA-election-map\n",
    "    \n",
    "<font size=\"5\">Background:\n",
    "    \n",
    "    \n",
    "    \n",
    "<font size=\"5\">Data Resource: \n",
    "    \n",
    "<font size=\"4\">Voter data is obtained from [PA Voter Services](https://www.pavoterservices.pa.gov/Pages/PurchasePAFULLVoterExport.aspx?ID=%20PA_EXPORT_8454847762230114235637&Langcode=%20en-US). Please note that this program is using the voter data prior to 01/14/2023.\n",
    "\n",
    "<font size=\"4\">Electoral District Boundary data is getting from the open resource:\n",
    "    \n",
    "<font size=\"4\">- [Congressional Boundary Data](https://www.pasda.psu.edu/uci/DataSummary.aspx?dataset=38)\n",
    "    \n",
    "<font size=\"4\">- [County Boundary Data](https://www.pasda.psu.edu/uci/DataSummary.aspx?dataset=24)\n",
    "    \n",
    "<font size=\"4\">- [Pennsylvania Senate Districts](https://data-pennshare.opendata.arcgis.com/datasets/PennShare::pennsylvania-senate-districts/about)\n",
    "    \n",
    "<font size=\"4\"> Polling Station: [Get_Polling_Station](https://www.pavoterservices.pa.gov/Pages/PollingPlaceInfo.aspx)\n",
    "\n",
    "    \n",
    "<font size=\"5\">Data processing for Voter Distribution Map\n",
    "\n",
    "<font size=\"4\">  1. Select the voter whose last vote date is in 2022 (exclude inactive voters）using   [Select_voter_from_2022](https://github.com/aminrahimian/PA-election-map/blob/main/data_processing/voter2022.py)\n",
    "    \n",
    "<font size=\"4\">  2. Random pick 10% voter from each county [Random_pick_10%](https://github.com/aminrahimian/PA-election-map/blob/main/data_processing/select2022.py)\n",
    "    \n",
    "<font size=\"4\">  3. Merge the cell to get the address which can use google API to find latitude and longitude [Address](https://github.com/aminrahimian/PA-election-map/blob/main/data_processing/addressfinal.py) \n",
    "    \n",
    "<font size=\"4\">  4. Get the map base on different requirment [Map_Voter](https://github.com/aminrahimian/PA-election-map/blob/main/map/mapPA.py) "
   ]
  },
  {
   "cell_type": "markdown",
   "id": "9b0e5988",
   "metadata": {},
   "source": [
    "<span style=\"font-family: 'Times New Roman'\">\n",
    "<font size=\"5\"> PA Voter Map with Different Election District Boundary\n",
    "\n",
    "![Voter_Map_with_Senate_Boundary](PAmapSenate.png)\n",
    "![Voter_Map_with_Congressional_Boundary](PAmapCongressional.png)\n",
    "![Voter_Map_with_County_Boundary](https://github.com/LyanRy/map-PA-voter/blob/main/PAmapCounty.png)    "
   ]
  },
  {
   "cell_type": "code",
   "execution_count": null,
   "id": "91145a04",
   "metadata": {},
   "outputs": [],
   "source": []
  }
 ],
 "metadata": {
  "kernelspec": {
   "display_name": "Python 3 (ipykernel)",
   "language": "python",
   "name": "python3"
  },
  "language_info": {
   "codemirror_mode": {
    "name": "ipython",
    "version": 3
   },
   "file_extension": ".py",
   "mimetype": "text/x-python",
   "name": "python",
   "nbconvert_exporter": "python",
   "pygments_lexer": "ipython3",
   "version": "3.10.9"
  }
 },
 "nbformat": 4,
 "nbformat_minor": 5
}
